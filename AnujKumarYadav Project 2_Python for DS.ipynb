{
 "cells": [
  {
   "cell_type": "markdown",
   "id": "fed7c989",
   "metadata": {},
   "source": [
    "# Import the required libraries and load the data"
   ]
  },
  {
   "cell_type": "code",
   "execution_count": null,
   "id": "29e16e13",
   "metadata": {},
   "outputs": [],
   "source": [
    "#importing required libraries\n",
    "import warnings\n",
    "warnings.filterwarnings(\"ignore\")\n",
    "import numpy as np\n",
    "import pandas as pd\n",
    "import matplotlib.pyplot as plt\n",
    "import seaborn as sns\n",
    "from sklearn.model_selection import train_test_split\n",
    "from sklearn.metrics import classification_report,confusion_matrix,roc_curve,accuracy_score,auc,roc_auc_score\n",
    "from sklearn.ensemble import RandomForestClassifier\n",
    "from sklearn.preprocessing import StandardScaler,MinMaxScaler\n",
    "from sklearn.discriminant_analysis import LinearDiscriminantAnalysis as LDA\n",
    "from sklearn.decomposition import PCA\n",
    "from sklearn.preprocessing import StandardScaler\n",
    "from sklearn.cluster import KMeans\n",
    "from sklearn.cluster import AgglomerativeClustering\n",
    "from sklearn.preprocessing import LabelEncoder\n",
    "from scipy.cluster.hierarchy import linkage, dendrogram, fcluster"
   ]
  },
  {
   "cell_type": "code",
   "execution_count": null,
   "id": "d3168594",
   "metadata": {
    "scrolled": true
   },
   "outputs": [],
   "source": [
    "#loading the data\n",
    "df = pd.read_csv('C:/Users/anuj/Desktop/Anuj/Python/GL Study Material/Project 2/renttherunway.csv')\n",
    "df.head(5)"
   ]
  },
  {
   "cell_type": "code",
   "execution_count": null,
   "id": "c9a14b69",
   "metadata": {},
   "outputs": [],
   "source": [
    "df1 = df.copy()"
   ]
  },
  {
   "cell_type": "markdown",
   "id": "080b5cc9",
   "metadata": {},
   "source": [
    "# Data cleansing and Exploratory data analysis"
   ]
  },
  {
   "cell_type": "code",
   "execution_count": null,
   "id": "d89d94cc",
   "metadata": {},
   "outputs": [],
   "source": [
    "print(\"Shape of the dataset:\", df.shape)"
   ]
  },
  {
   "cell_type": "code",
   "execution_count": null,
   "id": "9dd93e69",
   "metadata": {},
   "outputs": [],
   "source": [
    "print(\"Information of the dataset:\", df.info())"
   ]
  },
  {
   "cell_type": "code",
   "execution_count": null,
   "id": "21bb4dbe",
   "metadata": {},
   "outputs": [],
   "source": [
    "#descrition of numeric data\n",
    "df.describe()"
   ]
  },
  {
   "cell_type": "code",
   "execution_count": null,
   "id": "68435ad5",
   "metadata": {},
   "outputs": [],
   "source": [
    "#description of non-numeric data\n",
    "df.describe(include='O')"
   ]
  },
  {
   "cell_type": "code",
   "execution_count": null,
   "id": "666b8b1e",
   "metadata": {},
   "outputs": [],
   "source": [
    "#checking for unique values\n",
    "df.nunique()"
   ]
  },
  {
   "cell_type": "markdown",
   "id": "1118ebeb",
   "metadata": {},
   "source": [
    "- Columns like Unnamed_0,user_id,review_text,review_date,review_summary can be dropped. This is because of too many unique values. Since we are dropping data related to review thus review date can also be removed\n",
    "- Weight and Height are non-numeric. Needs to convert them to numeric\n",
    "- Age has a maximum value of 117. Need to check teh plot for the same to see if there is any skewness in data"
   ]
  },
  {
   "cell_type": "code",
   "execution_count": null,
   "id": "9063e3d2",
   "metadata": {},
   "outputs": [],
   "source": [
    "#Checking duplicate values\n",
    "df[df.duplicated()]"
   ]
  },
  {
   "cell_type": "markdown",
   "id": "f92cefd0",
   "metadata": {},
   "source": [
    " - No duplicate values found"
   ]
  },
  {
   "cell_type": "code",
   "execution_count": null,
   "id": "9b09d34f",
   "metadata": {},
   "outputs": [],
   "source": [
    "#dropping redundant columns\n",
    "redundant_columns = ['Unnamed: 0', 'user_id','review_text','review_summary','review_date','item_id']\n",
    "df = df.drop(redundant_columns, axis=1)\n",
    "df.head()"
   ]
  },
  {
   "cell_type": "code",
   "execution_count": null,
   "id": "37b07aff",
   "metadata": {},
   "outputs": [],
   "source": [
    "#converting weight into numeric datatype\n",
    "df['weight'] = df['weight'].str.replace('lbs', '')\n",
    "df['weight'] = pd.to_numeric(df['weight'], errors = 'coerce')\n"
   ]
  },
  {
   "cell_type": "code",
   "execution_count": null,
   "id": "60236663",
   "metadata": {},
   "outputs": [],
   "source": [
    "#converting height into inches which is of numeric data typr\n",
    "df['height'] = df['height'].str.split(\"'\").str.get(0).str.replace('\"','').astype(float)*12 + df['height'].str.split(\"'\").str.get(1).str.replace('\"','').astype(float)\n"
   ]
  },
  {
   "cell_type": "code",
   "execution_count": null,
   "id": "9530fcdb",
   "metadata": {},
   "outputs": [],
   "source": [
    "df.info()"
   ]
  },
  {
   "cell_type": "markdown",
   "id": "ad50153f",
   "metadata": {},
   "source": [
    "- Height and weight are now converted into numeric datatype"
   ]
  },
  {
   "cell_type": "code",
   "execution_count": null,
   "id": "0eb46920",
   "metadata": {},
   "outputs": [],
   "source": [
    "## Check the unique entries of 'rented for' column\n",
    "df['rented for'].unique()"
   ]
  },
  {
   "cell_type": "code",
   "execution_count": null,
   "id": "1a808e4a",
   "metadata": {},
   "outputs": [],
   "source": [
    "df['rented for'] = df['rented for'].replace(['party: cocktail'], 'party')\n",
    "df['rented for'].unique()"
   ]
  },
  {
   "cell_type": "code",
   "execution_count": null,
   "id": "22778026",
   "metadata": {},
   "outputs": [],
   "source": [
    "#Checking  for missing value\n",
    "missing_percentage = (df.isna().mean() * 100).round(2)\n",
    "print(\"Percentage of missing values:\")\n",
    "print(missing_percentage)"
   ]
  },
  {
   "cell_type": "code",
   "execution_count": null,
   "id": "8916700a",
   "metadata": {},
   "outputs": [],
   "source": [
    "df.describe()"
   ]
  },
  {
   "cell_type": "markdown",
   "id": "7067c530",
   "metadata": {},
   "source": [
    "- weight and age has large difference between minimum and maximum value. Median will be used to fill the missing values. \n",
    "- For height,rating, will use mean to fill the missing values as the missing value percentage is low.\n",
    "- for bust size,rented for and body type, will use mode as they are ofcategory datatype and top values seems to have decent frequency"
   ]
  },
  {
   "cell_type": "code",
   "execution_count": null,
   "id": "5cfbfd4d",
   "metadata": {},
   "outputs": [],
   "source": [
    "## Imputing the missing values.\n",
    "df['weight'] = df['weight'].fillna(df['weight'].median())\n",
    "df['age'] = df['age'].fillna(df['age'].median())\n",
    "df['rating'] = df['rating'].fillna(df['rating'].mean())\n",
    "df['height'] = df['height'].fillna(df['height'].mean())\n"
   ]
  },
  {
   "cell_type": "code",
   "execution_count": null,
   "id": "61088da6",
   "metadata": {},
   "outputs": [],
   "source": [
    "print('mode of column bust size:',df['bust size'].mode())\n",
    "print('mode of column body type:',df['body type'].mode())\n",
    "print('mode of column rented for:',df['rented for'].mode())"
   ]
  },
  {
   "cell_type": "code",
   "execution_count": null,
   "id": "3499b533",
   "metadata": {},
   "outputs": [],
   "source": [
    "#filling the missing values with the common values\n",
    "df['bust size'] = df['bust size'].fillna('34b')\n",
    "df['body type'] = df['body type'].fillna('hourglass')\n",
    "df['rented for'] = df['rented for'].fillna('wedding')"
   ]
  },
  {
   "cell_type": "code",
   "execution_count": null,
   "id": "86cb55b0",
   "metadata": {},
   "outputs": [],
   "source": [
    "#Checking  for missing value\n",
    "missing_percentage_imputed = (df.isna().mean() * 100).round(2)\n",
    "print(\"Percentage of missing values after imputing:\")\n",
    "print(missing_percentage_imputed)"
   ]
  },
  {
   "cell_type": "markdown",
   "id": "359ba09c",
   "metadata": {},
   "source": [
    "- No missing values are present"
   ]
  },
  {
   "cell_type": "code",
   "execution_count": null,
   "id": "adba5cc2",
   "metadata": {},
   "outputs": [],
   "source": [
    "#checking for outliers in age\n",
    "sns.boxplot(df['age'])"
   ]
  },
  {
   "cell_type": "code",
   "execution_count": null,
   "id": "b3b5e4aa",
   "metadata": {},
   "outputs": [],
   "source": [
    "sns.kdeplot(df.age, color=\"blue\", shade = True)"
   ]
  },
  {
   "cell_type": "code",
   "execution_count": null,
   "id": "35355bd3",
   "metadata": {},
   "outputs": [],
   "source": [
    "# Let's check ratio of age greater than 100\n",
    "ratio_age_greater_than_100 = (len(df[df['age'] >= 100])/len(df['age']))*100\n",
    "ratio_age_equal_to_100 = (len(df[df['age'] == 0])/len(df['age']))*100\n",
    "print(ratio_age_greater_than_100,ratio_age_equal_to_100)"
   ]
  },
  {
   "cell_type": "markdown",
   "id": "ed31d861",
   "metadata": {},
   "source": [
    "- As the number of datapoint for age >= 100 and age = 0 is very small we can drop these rows"
   ]
  },
  {
   "cell_type": "code",
   "execution_count": null,
   "id": "36622c17",
   "metadata": {},
   "outputs": [],
   "source": [
    "#dropping the respective rows\n",
    "df.drop(df.index[(df['age'] >= 100)],axis=0,inplace=True)\n",
    "df.drop(df.index[(df['age'] == 0)],axis=0,inplace=True)\n",
    "ratio_age_greater_than_100 = (len(df[df['age'] > 100])/len(df['age']))*100\n",
    "ratio_age_equal_to_100 = (len(df[df['age'] == 0])/len(df['age']))*100\n",
    "print(ratio_age_greater_than_100,ratio_age_equal_to_100)\n"
   ]
  },
  {
   "cell_type": "code",
   "execution_count": null,
   "id": "09eba853",
   "metadata": {},
   "outputs": [],
   "source": [
    "sns.boxplot(df['age'])"
   ]
  },
  {
   "cell_type": "code",
   "execution_count": null,
   "id": "aab22607",
   "metadata": {},
   "outputs": [],
   "source": [
    "plt.figure(figsize = (12,8))\n",
    "sns.countplot(df['rented for'])\n",
    "plt.show()"
   ]
  },
  {
   "cell_type": "code",
   "execution_count": null,
   "id": "223e52c4",
   "metadata": {},
   "outputs": [],
   "source": [
    "(len(df[df['rented for'] == \"wedding\"])+len(df[df['rented for'] == \"formal affair\"])+len(df[df['rented for'] == \"party\"]))/len(df['rented for'])*100"
   ]
  },
  {
   "cell_type": "markdown",
   "id": "54e546d4",
   "metadata": {},
   "source": [
    "- Dropping rows having 'rented for' value as vacation, date,other, everyday and work as account for only 30% of data"
   ]
  },
  {
   "cell_type": "code",
   "execution_count": null,
   "id": "c36e30bb",
   "metadata": {},
   "outputs": [],
   "source": [
    "#dropping the respective rows\n",
    "df.drop(df.index[(df['rented for'] == \"vacation\")],axis=0,inplace=True)\n",
    "df.drop(df.index[(df['rented for'] == \"other\")],axis=0,inplace=True)\n",
    "df.drop(df.index[(df['rented for'] == \"date\")],axis=0,inplace=True)\n",
    "df.drop(df.index[(df['rented for'] == \"everyday\")],axis=0,inplace=True)\n",
    "df.drop(df.index[(df['rented for'] == \"work\")],axis=0,inplace=True)\n",
    "df.shape"
   ]
  },
  {
   "cell_type": "code",
   "execution_count": null,
   "id": "0531c692",
   "metadata": {},
   "outputs": [],
   "source": [
    "plt.figure(figsize = (12,8))\n",
    "sns.countplot(df['fit'])\n",
    "plt.show()"
   ]
  },
  {
   "cell_type": "markdown",
   "id": "808c0822",
   "metadata": {},
   "source": [
    "- Dropping rows having fit value as small and large because of thier insignifcant contribution"
   ]
  },
  {
   "cell_type": "code",
   "execution_count": null,
   "id": "2051d00d",
   "metadata": {},
   "outputs": [],
   "source": [
    "#dropping the respective rows\n",
    "df.drop(df.index[(df['fit'] == \"small\")],axis=0,inplace=True)\n",
    "df.drop(df.index[(df['fit'] == \"large\")],axis=0,inplace=True)\n",
    "df.shape"
   ]
  },
  {
   "cell_type": "code",
   "execution_count": null,
   "id": "7e355631",
   "metadata": {},
   "outputs": [],
   "source": [
    "#description of non-numeric data\n",
    "df.describe(include='O')"
   ]
  },
  {
   "cell_type": "code",
   "execution_count": null,
   "id": "620a39d0",
   "metadata": {},
   "outputs": [],
   "source": [
    "## Label encoding\n",
    "df_cat = df.select_dtypes(include='object')\n",
    "le = LabelEncoder()\n",
    "for col in df_cat:\n",
    "    df[col] = le.fit_transform(df[col])\n"
   ]
  },
  {
   "cell_type": "code",
   "execution_count": null,
   "id": "18e401e0",
   "metadata": {},
   "outputs": [],
   "source": [
    "## Standardization\n",
    "df_scaled = df.copy()\n",
    "scaled_features = StandardScaler().fit_transform(df_scaled.values)\n",
    "scaled_features_df = pd.DataFrame(scaled_features, index=df_scaled.index, columns=df_scaled.columns)"
   ]
  },
  {
   "cell_type": "code",
   "execution_count": null,
   "id": "b859f1fd",
   "metadata": {},
   "outputs": [],
   "source": [
    "scaled_features_df.head()"
   ]
  },
  {
   "cell_type": "markdown",
   "id": "e323517b",
   "metadata": {},
   "source": [
    "## Principal Component Analysis"
   ]
  },
  {
   "cell_type": "code",
   "execution_count": null,
   "id": "08faf7b3",
   "metadata": {},
   "outputs": [],
   "source": [
    "## Calculating covariance matrix\n",
    "cov_matrix = np.cov(scaled_features_df.T)\n",
    "print('Covariance matrix','\\n',cov_matrix)"
   ]
  },
  {
   "cell_type": "code",
   "execution_count": null,
   "id": "dee0e1b3",
   "metadata": {},
   "outputs": [],
   "source": [
    "## Calculating eigen values and eigen vectors\n",
    "eig_vals, eig_vecs = np.linalg.eig(cov_matrix)\n",
    "print('Eigen vectors:','\\n',eig_vecs)\n",
    "print('\\n')\n",
    "print('Eigen values:','\\n',eig_vals)"
   ]
  },
  {
   "cell_type": "code",
   "execution_count": null,
   "id": "1af01bb6",
   "metadata": {},
   "outputs": [],
   "source": [
    "## Calculating the Variance explained and the cummulative variance explained\n",
    "total = sum(eig_vals)\n",
    "var_exp = [ (i/total)*100  for i in sorted(eig_vals,reverse=True)]\n",
    "cum_var_exp = np.cumsum(var_exp)\n",
    "print('Variance Explained: ',var_exp)\n",
    "print('Cummulative Variance Explained: ',cum_var_exp)"
   ]
  },
  {
   "cell_type": "markdown",
   "id": "df4d1177",
   "metadata": {},
   "source": [
    "- We can see that approximately 80 - 90% of variance is explained by the first 6 variables.\n",
    "- so, we can choose the optimal number of principal components as 6."
   ]
  },
  {
   "cell_type": "code",
   "execution_count": null,
   "id": "33d4f450",
   "metadata": {},
   "outputs": [],
   "source": [
    "## Fitting the PCA model\n",
    "pca=PCA(n_components = 6)\n",
    "pca.fit(scaled_features_df)"
   ]
  },
  {
   "cell_type": "code",
   "execution_count": null,
   "id": "3d69569f",
   "metadata": {},
   "outputs": [],
   "source": [
    "data_pca = pca.transform(scaled_features_df)\n",
    "data_pca = pd.DataFrame(data_pca,columns=['PC1','PC2','PC3','PC4','PC5','PC6'])\n",
    "data_pca.head()"
   ]
  },
  {
   "cell_type": "markdown",
   "id": "a86949b5",
   "metadata": {},
   "source": [
    "## K-means Clustering"
   ]
  },
  {
   "cell_type": "code",
   "execution_count": null,
   "id": "cc1c0bc8",
   "metadata": {},
   "outputs": [],
   "source": [
    "cluster_range = range(1,15)\n",
    "cluster_errors = []\n",
    "\n",
    "for num_clusters in cluster_range:\n",
    "   \n",
    "    clusters = KMeans(num_clusters, n_init=10)\n",
    "    clusters.fit(data_pca)\n",
    "    \n",
    "    labels = clusters.labels_\n",
    "    centroids = clusters.cluster_centers_\n",
    "    \n",
    "    cluster_errors.append(clusters.inertia_)\n",
    "\n",
    "clusters_df = pd.DataFrame({'num_clusters':cluster_range, \n",
    "                           'cluster_errors':cluster_errors})\n",
    "\n",
    "clusters_df"
   ]
  },
  {
   "cell_type": "code",
   "execution_count": null,
   "id": "ca637c46",
   "metadata": {},
   "outputs": [],
   "source": [
    "## Elbow method\n",
    "plt.figure(figsize=[12,6])\n",
    "plt.title('The Elbow Method')\n",
    "plt.xlabel('Number of clusters using PCA')\n",
    "plt.plot(clusters_df['num_clusters'],clusters_df['cluster_errors'],marker='o',color='b')\n",
    "plt.show()"
   ]
  },
  {
   "cell_type": "markdown",
   "id": "f2bc5b45",
   "metadata": {},
   "source": [
    "- From the Elbow plot, we can see that at K=4 the interia starts to drop significantly. So we will do it using 5 clusters. \n",
    "- The clusters are labeled as 0,1,2,3."
   ]
  },
  {
   "cell_type": "code",
   "execution_count": null,
   "id": "d412b59c",
   "metadata": {},
   "outputs": [],
   "source": [
    "## Fit the KMeans clustering model using the obtained optimal K\n",
    "kmeans = KMeans(n_clusters=4, n_init=15, random_state=100)\n",
    "kmeans.fit(data_pca)"
   ]
  },
  {
   "cell_type": "code",
   "execution_count": null,
   "id": "b5c4dd23",
   "metadata": {},
   "outputs": [],
   "source": [
    "## creating a dataframe of the labels\n",
    "label = pd.DataFrame(kmeans.labels_,columns=['Label'])"
   ]
  },
  {
   "cell_type": "code",
   "execution_count": null,
   "id": "37c3df50",
   "metadata": {},
   "outputs": [],
   "source": [
    "## joining the label dataframe to the data_pca dataframe\n",
    "kmeans_df = data_pca.join(label)\n",
    "kmeans_df.head()"
   ]
  },
  {
   "cell_type": "code",
   "execution_count": null,
   "id": "93b113cc",
   "metadata": {},
   "outputs": [],
   "source": [
    "kmeans_df['Label'].value_counts()"
   ]
  },
  {
   "cell_type": "code",
   "execution_count": null,
   "id": "f7610608",
   "metadata": {},
   "outputs": [],
   "source": [
    "##visulalising the clusters formed\n",
    "sns.scatterplot(kmeans_df['PC3'],kmeans_df['PC2'],hue = 'Label', data = kmeans_df )\n",
    "plt.show()"
   ]
  },
  {
   "cell_type": "code",
   "execution_count": null,
   "id": "13a288e0",
   "metadata": {},
   "outputs": [],
   "source": [
    "#computing silhouette score\n",
    "from sklearn.metrics import silhouette_score\n",
    "\n",
    "kmeans_score = []\n",
    "\n",
    "for i in range(2,15):\n",
    "    kmeans = KMeans(n_clusters=i)\n",
    "    kmeans = kmeans.fit(data_pca)\n",
    "    labels = kmeans.predict(data_pca)\n",
    "    print(i,silhouette_score(data_pca,labels))"
   ]
  },
  {
   "cell_type": "code",
   "execution_count": null,
   "id": "bf5a5f86",
   "metadata": {},
   "outputs": [],
   "source": [
    "## Agglomertaive Clustering"
   ]
  },
  {
   "cell_type": "code",
   "execution_count": null,
   "id": "142b92c4",
   "metadata": {},
   "outputs": [],
   "source": [
    "plt.figure(figsize=[18,7])\n",
    "merg = linkage(data_pca, method='ward')\n",
    "dendrogram(merg, leaf_rotation=90,)\n",
    "plt.xlabel('Datapoints')\n",
    "plt.ylabel('Euclidean distance')\n",
    "plt.show()"
   ]
  },
  {
   "cell_type": "code",
   "execution_count": null,
   "id": "8a37252a",
   "metadata": {},
   "outputs": [],
   "source": [
    "from sklearn.metrics import silhouette_score\n",
    "\n",
    "for i in range(2,15):\n",
    "    hier = AgglomerativeClustering(n_clusters=i)\n",
    "    hier = hier.fit(scaled_features_df)\n",
    "    labels = hier.fit_predict(scaled_features_df)\n",
    "    print(i,silhouette_score(scaled_features_df,labels))"
   ]
  },
  {
   "cell_type": "code",
   "execution_count": null,
   "id": "34e7891c",
   "metadata": {},
   "outputs": [],
   "source": [
    "## Building hierarchical clustering model using the optimal clusters as 4\n",
    "hie_cluster = AgglomerativeClustering(n_clusters=4, affinity='euclidean',\n",
    "                                     linkage='ward')\n",
    "hie_cluster_model = hie_cluster.fit(scaled_features_df)"
   ]
  },
  {
   "cell_type": "code",
   "execution_count": null,
   "id": "71e63ce4",
   "metadata": {},
   "outputs": [],
   "source": [
    "## Creating a dataframe of the labels\n",
    "df_label1 = pd.DataFrame(hie_cluster_model.labels_,columns=['Labels'])\n",
    "df_label1.head(5)"
   ]
  },
  {
   "cell_type": "code",
   "execution_count": null,
   "id": "072e0ec9",
   "metadata": {},
   "outputs": [],
   "source": [
    "## joining the label dataframe with unscaled initial scale dataframe \n",
    "df_hier = dfc.join(df_label1)\n",
    "df_hier.head()"
   ]
  },
  {
   "cell_type": "code",
   "execution_count": null,
   "id": "49281929",
   "metadata": {},
   "outputs": [],
   "source": [
    "sns.barplot(df_hier['Labels'],df_hier['Num_Total_Purchases'])\n",
    "plt.show()"
   ]
  }
 ],
 "metadata": {
  "kernelspec": {
   "display_name": "Python 3 (ipykernel)",
   "language": "python",
   "name": "python3"
  },
  "language_info": {
   "codemirror_mode": {
    "name": "ipython",
    "version": 3
   },
   "file_extension": ".py",
   "mimetype": "text/x-python",
   "name": "python",
   "nbconvert_exporter": "python",
   "pygments_lexer": "ipython3",
   "version": "3.8.2"
  }
 },
 "nbformat": 4,
 "nbformat_minor": 5
}
